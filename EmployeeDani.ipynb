{
  "nbformat": 4,
  "nbformat_minor": 0,
  "metadata": {
    "colab": {
      "provenance": [],
      "authorship_tag": "ABX9TyMqUfSwvQFmKiCveXZWjRpk",
      "include_colab_link": true
    },
    "kernelspec": {
      "name": "python3",
      "display_name": "Python 3"
    },
    "language_info": {
      "name": "python"
    }
  },
  "cells": [
    {
      "cell_type": "markdown",
      "metadata": {
        "id": "view-in-github",
        "colab_type": "text"
      },
      "source": [
        "<a href=\"https://colab.research.google.com/github/dani549037/EmployeeDani/blob/main/EmployeeDani.ipynb\" target=\"_parent\"><img src=\"https://colab.research.google.com/assets/colab-badge.svg\" alt=\"Open In Colab\"/></a>"
      ]
    },
    {
      "cell_type": "code",
      "source": [
        "from abc import ABC, abstractmethod\n",
        "\n",
        "class AbstractEmployee(ABC):\n",
        "    new_id = 1\n",
        "\n",
        "    def __init__(self):\n",
        "        self.id = AbstractEmployee.new_id\n",
        "        AbstractEmployee.new_id += 1\n",
        "\n",
        "    @abstractmethod\n",
        "    def say_id(self):\n",
        "        pass\n",
        "\n",
        "class Employee(AbstractEmployee):\n",
        "    new_id = 1\n",
        "\n",
        "    def __init__(self, name=None):\n",
        "        super().__init__()\n",
        "        self.__company = \"Postobon\"\n",
        "        self._name = name\n",
        "\n",
        "    def say_id(self):\n",
        "        print(\"Mi ID es\", self.id)\n",
        "\n",
        "    def get_name(self):\n",
        "        return self._name\n",
        "\n",
        "    def set_name(self, name):\n",
        "        self._name = name\n",
        "\n",
        "    def del_name(self):\n",
        "        print(f\"_{self._name} eliminado\")\n",
        "        del self._name\n",
        "\n",
        "class User:\n",
        "    def __init__(self, username, role):\n",
        "        self.username = username\n",
        "        self.role = role\n",
        "\n",
        "    def say_user_info(self):\n",
        "        print(\"Usuario:\", self.username)\n",
        "        print(\"Rol:\", self.role)\n",
        "\n",
        "class Admin(Employee, User):\n",
        "    def __init__(self, name=None):\n",
        "        super().__init__(name)\n",
        "        User.__init__(self, self.id, \"Admin\")\n",
        "\n",
        "    def say_id(self):\n",
        "        super().say_id()\n",
        "        print(\"Soy administrador\")\n",
        "\n",
        "class Manager(Admin):\n",
        "    def say_id(self):\n",
        "        print(\"Estoy a cargo.\")\n",
        "        super().say_id()\n",
        "\n",
        "class Meeting:\n",
        "    def __init__(self):\n",
        "        self.attendees = []\n",
        "\n",
        "    def __add__(self, other):\n",
        "        self.attendees.append(other)\n",
        "        print(\"Empleado con identificación\", other.id, \"agregado exitosamente\")\n",
        "        return self\n",
        "\n",
        "    def __len__(self):\n",
        "        return len(self.attendees)\n",
        "\n",
        "e1 = Employee()\n",
        "e2 = Employee()\n",
        "e3 = Admin(\"Luizdany\")\n",
        "e4 = Manager(\"Daniel\")\n",
        "\n",
        "m1 = Meeting()\n",
        "m1 + e1\n",
        "m1 + e2\n",
        "m1 + e3\n",
        "m1 + e4\n",
        "print(f\"# Asistentes a la reunión: {len(m1)}\")\n",
        "e1.set_name(\"Dani\")\n",
        "for e in m1.attendees:\n",
        "    print(f\"\\nMi nombre es {e.get_name()} y trabajo para {e._Employee__company}\")\n",
        "    e.say_id()\n",
        "    try:\n",
        "        e.say_user_info()\n",
        "    except AttributeError:\n",
        "        continue\n",
        "e1.del_name()\n"
      ],
      "metadata": {
        "colab": {
          "base_uri": "https://localhost:8080/"
        },
        "id": "XBnzhgeft_k6",
        "outputId": "56cb3076-e8ab-4eaa-c1fb-94f6176c5959"
      },
      "execution_count": null,
      "outputs": [
        {
          "output_type": "stream",
          "name": "stdout",
          "text": [
            "Empleado con identificación 1 agregado exitosamente\n",
            "Empleado con identificación 2 agregado exitosamente\n",
            "Empleado con identificación 3 agregado exitosamente\n",
            "Empleado con identificación 4 agregado exitosamente\n",
            "# Asistentes a la reunión: 4\n",
            "\n",
            "Mi nombre es Dani y trabajo para Postobon\n",
            "Mi ID es 1\n",
            "\n",
            "Mi nombre es None y trabajo para Postobon\n",
            "Mi ID es 2\n",
            "\n",
            "Mi nombre es Luizdany y trabajo para Postobon\n",
            "Mi ID es 3\n",
            "Soy administrador\n",
            "Usuario: 3\n",
            "Rol: Admin\n",
            "\n",
            "Mi nombre es Daniel y trabajo para Postobon\n",
            "Estoy a cargo.\n",
            "Mi ID es 4\n",
            "Soy administrador\n",
            "Usuario: 4\n",
            "Rol: Admin\n",
            "_Dani eliminado\n"
          ]
        }
      ]
    },
    {
      "cell_type": "markdown",
      "source": [
        "**DANIEL ESTEBAN ALVAREZ CARO**\n",
        "\n",
        "(daniel.alvarezc@upb.edu.co) 000549037"
      ],
      "metadata": {
        "id": "mqWM5e9Rvitw"
      }
    }
  ]
}